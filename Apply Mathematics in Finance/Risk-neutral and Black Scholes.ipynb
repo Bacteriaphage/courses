{
 "cells": [
  {
   "cell_type": "markdown",
   "metadata": {},
   "source": [
    "## Risk neutral valuation\n",
    "\n",
    "### Concept of arbitrage\n",
    "\n",
    "We believe in the financial market, all price of liquid derivative will are reasonable, which has no change of arbitrage. \n",
    "\n",
    "Imagine we want to enter an one-step stock forward contract which in the maturity day, we will get $K$ dollar and we give counterparty $S$ amount of stock. Since we have no cash, we go to back and borrow $S_0$ and buy S stock and enter the forward contract. When maturity day comes, we need to give S stock to counterparty, get paid by $K$ cash and return money to back with a interest rate $r$.\n",
    "\n",
    "Our cashflow in above example is: $K-S_0e^{rT}$\n",
    "\n",
    "If the forward contract has a bad design and K is not exactly $S_0e^{rt}$, that mean we have a change to arbitrage or counterparty can arbitrage freely. If this contract exists in the world, someone can just enter large amount of it by only borrow money from bank and become a billionaire. This is unreal.\n",
    "\n",
    "So how to design a good price for derivative and how to find a unreasonable price is what people should do in sell side and buy side.\n",
    "\n",
    "### price of a derivative claim\n",
    "Current price of a derivative claim is determined by current price of a portfolio which exactly replicates the payoff of the derivative at the maturity\n",
    "\n",
    "In above example, the price of the forward contract is replicated by a zero-coupon bond/momey market account.\n",
    "\n",
    "Let's generalize the idea, for any derivative, we replicate price function $f$ as:\n",
    "\n",
    "$$df=adS+bdB$$\n",
    "where:\n",
    "$$dS=\\mu Sdt+\\sigma SdW\\ and\\ B=e^{rt}$$\n",
    "Apply Ito's formula to f and plugin above equition:\n",
    "$$(\\frac{\\partial f}{\\partial t}+\\frac{\\partial f}{\\partial S}\\mu S+\\frac{1}{2}\\frac{\\partial^2f}{\\partial S^2}\\sigma^2S^2)dt+\\frac{\\partial f}{\\partial S}\\sigma SdW = (a\\mu S+brB)dt+a\\sigma SdW$$\n",
    "we can oberserve:\n",
    "$$a=\\frac{\\partial f}{\\partial S}, brB=\\frac{\\partial f}{\\partial t}+\\frac{1}{2}\\frac{\\partial^2f}{\\partial S^2}\\sigma^2S^2$$\n",
    "Because:\n",
    "$$df = adS+bdB,\\ dB=rBdt,\\ f=aS+bB$$\n",
    "then:\n",
    "$$rfdt=df-adS+raSdt$$\n",
    "plugin above differential equition:\n",
    "we get:\n",
    "$$\\frac{\\partial f}{\\partial t}+rS\\frac{\\partial f}{\\partial S}+\\frac{1}{2}\\frac{\\partial^2f}{\\partial S^2}-rf=0$$\n",
    "we have get the price function by solving above differential equition."
   ]
  },
  {
   "cell_type": "markdown",
   "metadata": {},
   "source": [
    "## Put-Call parity\n",
    "\n",
    "In BS model, we assume volitility is a constant, but in real world, we will find an implied volitility as a smile curve going with stock price. what if we only know all call option price and we want to price put option?\n",
    "\n",
    "if we have a portfolio which buy a call option with strike K and sell a put option with a strike K, our payoff function at time T will be:\n",
    "\n",
    "$$C-P=S_T-K$$\n",
    "\n",
    "we clearly know the C-P is a deterministic value $S_T-K$, so our fair put option price should be:\n",
    "$$P = C(t, T)-S_t+Ke^{-rT}$$"
   ]
  },
  {
   "cell_type": "code",
   "execution_count": null,
   "metadata": {},
   "outputs": [],
   "source": []
  }
 ],
 "metadata": {
  "kernelspec": {
   "display_name": "Python 3",
   "language": "python",
   "name": "python3"
  },
  "language_info": {
   "codemirror_mode": {
    "name": "ipython",
    "version": 3
   },
   "file_extension": ".py",
   "mimetype": "text/x-python",
   "name": "python",
   "nbconvert_exporter": "python",
   "pygments_lexer": "ipython3",
   "version": "3.7.7"
  }
 },
 "nbformat": 4,
 "nbformat_minor": 4
}
