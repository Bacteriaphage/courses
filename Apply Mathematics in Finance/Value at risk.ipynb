{
 "cells": [
  {
   "cell_type": "markdown",
   "metadata": {},
   "source": [
    "### Balance sheet\n",
    "\n",
    "$$Assets=Liabilities+Shareholders’ Equity$$\n",
    "https://www.investopedia.com/terms/b/balancesheet.asp\n",
    "\n",
    "https://corporatefinanceinstitute.com/resources/knowledge/accounting/balance-sheet/\n",
    "\n",
    "Take away:\n",
    "* Asset is all stuff the company has, no matter it is liquid or not\n",
    "* Liabilities are debt, bond etc. which are amount of money the company have to return. Borrowing $1 will add 1 to both Liab and Asset\n",
    "* Equity contains the money come from invester (share capital), the company has no responsibility to give those money back to shareholder. However the shareholder and the company share the success or failure of the company. Investment will come into both equity and asset part in balance sheet. When company has revenue, it also goes into asset and equity (retained earnings).\n",
    "\n",
    "To successfully run a company, we need make sure our equity part will not go to zero, otherwise we will bankrupt."
   ]
  },
  {
   "cell_type": "markdown",
   "metadata": {},
   "source": [
    "## VaR\n",
    "procedure:\n",
    "\n",
    "1. collect price data\n",
    "2. calculate return(log or linear)\n",
    "3. calculate variance and stddev\n",
    "4. because we assume return has 0 mean and is a normal distribution, then 2.33 * stddev is the largest percentage of loss in 99% of the time.\n",
    "5. in fact, sometimes we will observe more loss, the reason is we are in a market which has large market moves and we underestimate this move. We assume the return is a random walk but in fact it not ideal and we encounter fat tail.\n",
    "6. to resolve fat tail issue, we go to empirical distribution instead of normal distribution, then it can capture the fat tail.\n",
    "https://en.wikipedia.org/wiki/Empirical_distribution_function\n",
    "\n",
    "### Equities, FX, Commidities VaR\n",
    "$$VaR = position*\\sigma_{return}*2.33$$\n",
    "### Fixed Income VaR\n",
    "$$VaR = position*PV01*close*\\sigma_{yield}*2.33*100$$\n",
    "because PV01 is for per bps"
   ]
  },
  {
   "cell_type": "markdown",
   "metadata": {},
   "source": [
    "## PV01, DV01, duration\n",
    "\n",
    "These three are three different way to identify fix income price change.\n",
    "https://quant.stackexchange.com/questions/34101/whats-the-difference-between-pv01-and-dv01-of-a-bond\n"
   ]
  },
  {
   "cell_type": "markdown",
   "metadata": {},
   "source": [
    "## Portfolio VaR\n",
    "multi-asset portfolio has a systemetic VaR, we need to know the variance and covariance of all asset we have and then do the calculation.\n",
    "\n",
    "Suppose $x$ is a vector for asset position of the portfolio, $\\Sigma$ is the variance covariance matrix.\n",
    "$$\\sigma_p^2 = x^T\\Sigma x$$\n",
    "Because $\\Sigma$ is a symmetric matrix, it can be factorized as $E^T\\Lambda^{\\frac{1}{2}}\\Lambda^{\\frac{1}{2}}E$ \n",
    "$$\\sigma_p^2 = x^TE^T\\Lambda^{\\frac{1}{2}}\\Lambda^{\\frac{1}{2}}Ex$$\n",
    "\n",
    "This give us an intuition that our variance covariance matrix has to be a positive (semi)definate matrix, otherwise our stddev doesn't exist.\n",
    "If we have a non-positive defination matrix, then our measurement is wrong, we might miss some data. Here is where we need interpolation.\n",
    "\n",
    "### property of variance and covariance matrix\n",
    "If $R$ is an nx1 random normal vector and we have $\\Lambda^{\\frac{1}{2}}E$, then\n",
    "$$R\\Lambda^{\\frac{1}{2}}E -> N(0, \\Sigma)$$\n",
    "\n",
    "### Monte Carlo for generating missing data\n",
    "\n",
    "suppose we have variance and covariance matrix, we want to populate more data for tails and these data does not appear much in our sample, then, we can generate bunch of unrelated random normal varibles and use above technique to generate many correlated random normal variables. These new data we generated should have the same variance and covariance property and we can use them to interpolate some extreme scenario. "
   ]
  },
  {
   "cell_type": "code",
   "execution_count": null,
   "metadata": {},
   "outputs": [],
   "source": []
  }
 ],
 "metadata": {
  "kernelspec": {
   "display_name": "Python 3",
   "language": "python",
   "name": "python3"
  },
  "language_info": {
   "codemirror_mode": {
    "name": "ipython",
    "version": 3
   },
   "file_extension": ".py",
   "mimetype": "text/x-python",
   "name": "python",
   "nbconvert_exporter": "python",
   "pygments_lexer": "ipython3",
   "version": "3.7.7"
  }
 },
 "nbformat": 4,
 "nbformat_minor": 4
}
