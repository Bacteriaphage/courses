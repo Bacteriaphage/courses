{
 "cells": [
  {
   "cell_type": "markdown",
   "metadata": {},
   "source": [
    "## Finite difference method\n",
    "(for ODE and PDE)\n",
    "\n",
    "example:\n",
    "$$u'(t)=5u(t)+2\\ u(0)=0$$\n",
    "we want to know what is other value of u(t), we take many many small steps and use taylor expansion to calculate step by step:\n",
    "$$u(\\frac{1}{2})=u(0)+\\frac{1}{2}u'(0)$$\n",
    "and then we can calculate u(1) in next step.\n",
    "\n",
    "the same method also can be applied to PDE.\n",
    "\n",
    "Looking at this SDE:\n",
    "$$dX(t) = \\mu(t, X(t))X(t) dt+\\sigma(t, X(t)) dB(t)$$\n",
    "We have one variable t and a r.v. B(t). To use step, we need to know what value of r.v. B(t) we should use to calculate X.\n",
    "$$X((i+1)h)\\approx X(ih)+dX(ih)$$\n",
    "$$=X(ih)+\\mu(ih)X(ih)dt+\\sigma(ih, X(ih))dB(ih)$$\n",
    "$$=X(ih)+\\mu(ih)X(ih)h+\\sigma(ih, X(ih))(B((i+1)h)-B(ih))$$\n",
    "If we have a fixed path of brownian motion, then we can confirm what B(t) should be, but we cannot. This is why finite difference method is not useful for solving SDE."
   ]
  },
  {
   "cell_type": "markdown",
   "metadata": {},
   "source": [
    "## Monte Carlo\n",
    "By simulate Brownian motion for large amount of paths, we can use finite differential method again, but the result we get is not a single value, but a distribution of X."
   ]
  },
  {
   "cell_type": "markdown",
   "metadata": {},
   "source": [
    "## Tree method\n",
    "because Brownian motion is limit of simple random walk, we can use tree to build a simple random walk and get the probability on each step and apply it to the SDE. This method is not very useful."
   ]
  },
  {
   "cell_type": "markdown",
   "metadata": {},
   "source": [
    "## Heat Equation\n",
    "$$\\frac{\\partial u}{\\partial t}=\\frac{\\partial^2u}{\\partial X^2}$$\n",
    "This differential equition discribe the distribution of heat in a perfectly insulated tube at time t.\n",
    "\n",
    "### Linearity\n",
    "if $u_1$, $u_2$ satisfies heat equation, then $u_1+u_2$ also does. $\\int u_sds$ satisfy heat equation if all $u_s$ satisfy.\n",
    "\n",
    "This property is suffices to solve for $u(t, x)=\\delta_0(x)$\n",
    "\n",
    "$\\delta(x)$ is dirac delta function.\n",
    "\n",
    "conclusion:\n",
    "\n",
    "For any initial function $u(0, y)=f(y)$:\n",
    "$$u(t, x) = \\int u(t, x-s)f(s)ds$$\n",
    "\n",
    "to understand this, we can think $f(y)$ is linear combination of $\\delta(y)$, $\\int u(t, s-x)f(s)ds$ should satisfy heat equation where $f(y)$ is the initial condition. $f(s)$ in integral is the ampllitude of heat at position y.\n",
    "\n",
    "### normal distribution\n",
    "For the initial value $u(0, x)=\\delta_0(x)$\n",
    "$$u(x, t)=\\frac{1}{\\sqrt{2\\pi t}}e^{-x^2/4t}$$\n",
    "\n",
    "combine linearity and normal distribution:\n",
    "\n",
    "For $\\frac{\\partial u}{\\partial t}=\\frac{\\partial^2u}{\\partial X^2}$, $t\\ge 0$ and $-\\infty < x < \\infty$ with inital value $u(0, x)=v(x)$, the solution is given by:\n",
    "\n",
    "$$u(t, x) = \\int \\frac{1}{\\sqrt{2\\pi t}}e^{-(x-s)^2/4t}v(s)ds$$\n",
    "\n",
    "imagine v(x) is the payoff function at time T, then it's like a backward heat equation."
   ]
  },
  {
   "cell_type": "code",
   "execution_count": null,
   "metadata": {},
   "outputs": [],
   "source": []
  }
 ],
 "metadata": {
  "kernelspec": {
   "display_name": "Python 3",
   "language": "python",
   "name": "python3"
  },
  "language_info": {
   "codemirror_mode": {
    "name": "ipython",
    "version": 3
   },
   "file_extension": ".py",
   "mimetype": "text/x-python",
   "name": "python",
   "nbconvert_exporter": "python",
   "pygments_lexer": "ipython3",
   "version": "3.7.7"
  }
 },
 "nbformat": 4,
 "nbformat_minor": 4
}
