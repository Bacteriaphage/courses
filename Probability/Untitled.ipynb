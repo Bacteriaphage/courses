{
 "cells": [
  {
   "cell_type": "markdown",
   "metadata": {},
   "source": [
    "## Conditional Probability\n",
    "\n",
    "suppose:\n",
    "\n",
    "$$P(B) \\ne 0$$\n",
    "\n",
    "we have:\n",
    "$$P(A \\vert B) = \\frac{P(A\\cap B)}{P(B)}$$\n",
    "\n",
    "### Multiplication rule\n",
    "$$P(A\\cap B) = P(B\\vert A)P(A) = P(A\\vert B)P(B)$$\n",
    "\n",
    "### Total probability theorem\n",
    "$$P(B) = P(B\\vert A)P(A) + P(B\\vert \\bar{A})P(\\bar{A})$$\n",
    "\n",
    "### Bayes's rule\n",
    "\n",
    "$$P(A_i\\vert B) = \\frac{P(A_i\\cap B)}{P(B)} = \\frac{P(B\\vert A_i)P(A_i)}{\\Sigma_j P(B\\vert A_j)P(A_j)}$$\n"
   ]
  },
  {
   "cell_type": "markdown",
   "metadata": {},
   "source": [
    "## Independancy\n",
    "\n",
    "A and B are infependent if:\n",
    "\n",
    "$$P(B\\vert A) = P(B)$$\n",
    "This is not very good if $P(A)=0$.\n",
    "\n",
    "To solve it, we apply conditional prob.\n",
    "\n",
    "$$P(B\\cap A) = P(B)P(A)$$\n",
    "\n",
    "indenpendent and pairwise independent\n",
    "Toss a fair coin twice:\n",
    "\n",
    "A: first toss is H\n",
    "\n",
    "B: second toss is H\n",
    "\n",
    "C: two tosses have same result.\n",
    "\n",
    "$$P(A\\cap B)=\\frac{1}{4}=P(A)P(B)$$\n",
    "$$P(A\\cap C)=\\frac{1}{4}=P(A)P(C)$$\n",
    "$$P(B\\cap C)=\\frac{1}{4}=P(B)P(C)$$\n",
    "But:\n",
    "$$P(A\\cap B\\cap C) = \\frac{1}{4} \\ne P(A)P(B)P(B)=\\frac{1}{8}$$\n",
    "So, A, B and C are pairwise independent, but not mutually independent.\n",
    "\n",
    "The fact here is, giving information about event A will not effect our estimation of probability of B, the number need to be designed to fullfill requirement $P(A\\cap B)=P(A)P(B)$, in this example, if we know first toss is H, we still cannot make any bias estimation about either B or C, but is we know A and B happened, then estimation of C will change to $P(C\\vert A\\cap B)=1$."
   ]
  },
  {
   "cell_type": "markdown",
   "metadata": {},
   "source": [
    "## Counting\n",
    "\n",
    "### Permulation\n",
    "### Combination\n",
    "$$C^k_n = \\frac{n!}{k!(n-k)!}$$\n",
    "\n",
    "proof:\n",
    "\n",
    "To choose k items from n and construct a permutation\n",
    "\n",
    "approach 1: choose 1 item from remaining items every time, we have $n(n-1)(n-2)...(n-k+1)=\\frac{n!}{(n-k)!}$ count.\n",
    "\n",
    "approach 2: choose k from n first, then do permutation, we have: $k!C^k_n$\n",
    "\n",
    "these 2 approaches will give the same count, so:\n",
    "$$C^k_n = \\frac{n!}{k!(n-k)!}$$"
   ]
  },
  {
   "cell_type": "markdown",
   "metadata": {},
   "source": [
    "## Random variable\n",
    "### expectation property\n",
    "\n",
    "If X is a random variable, Y = g(X)\n",
    "$$E[Y] = \\Sigma_y yp_Y(y)$$\n",
    "$$E[Y] = \\Sigma_x g(x)P_X(x)$$\n",
    "\n",
    "if g(x) is a linear function, then:\n",
    "\n",
    "$$E[g(X)] = g(E[X])$$\n",
    "otherwise, this is not true.\n",
    "\n",
    "### Variance\n",
    "$$E[(X-E[X])^2] = \\Sigma_x(x-E[X])^2p_X(x)$$\n",
    "$$=E[X^2]-2E[X]E[X]+E^2[X]$$\n",
    "$$=E[X^2]-(E[X])^2$$\n",
    "\n",
    "### With condition\n",
    "\n",
    "$$p_{X\\vert A} = P(X=x\\vert A)$$\n",
    "$$E[X\\vert A] = \\Sigma_xxp_{X\\vert A}(x)$$\n",
    "$$E[Y\\vert A] = \\Sigma_xg(x)p_{X\\vert A}(x)$$\n",
    "\n",
    "### Geometric Probability mess function\n",
    "Suppose we have coin flip, we get k-1 tails until a head has probability: $p_X(k)=(1-p)^{k-1}p$, then, we have:\n",
    "$$P(X-n \\vert X>n) = P(X)$$\n",
    "This means the previous tails will not effect following toss, it's memoryless. \n",
    "Explaination: if we plot this probability mess function, it is:"
   ]
  },
  {
   "cell_type": "code",
   "execution_count": 56,
   "metadata": {},
   "outputs": [
    {
     "data": {
      "image/png": "[encoded data removed]",
      "text/plain": [
       "<Figure size 432x288 with 1 Axes>"
      ]
     },
     "metadata": {
      "needs_background": "light"
     },
     "output_type": "display_data"
    }
   ],
   "source": [
    "import matplotlib.pyplot as plt\n",
    "import math\n",
    "\n",
    "k = list(range(1, 10))\n",
    "y = [0.5*0.5**(x-1) for x in k]\n",
    "a = plt.bar(k, y)"
   ]
  },
  {
   "cell_type": "markdown",
   "metadata": {},
   "source": [
    "If we have already known that 1 and 2 did not happen, then we need redistribute probabilty of remaining events to make sum of probability is 1. Because the remaining events has the same shape as the orignal events, so the probability of 3 will be the same as event 1 if we know the condition that 1 and 2 has happened."
   ]
  },
  {
   "cell_type": "code",
   "execution_count": 49,
   "metadata": {
    "scrolled": true
   },
   "outputs": [
    {
     "data": {
      "image/png": "[encoded data removed]",
      "text/plain": [
       "<Figure size 432x288 with 1 Axes>"
      ]
     },
     "metadata": {
      "needs_background": "light"
     },
     "output_type": "display_data"
    },
    {
     "name": "stdout",
     "output_type": "stream",
     "text": [
      "Prob of getting nothing after 300 draws: 0.1224123682576389\n",
      "Expectation: 125.4850740457376\n",
      "Std: 97.22966935545593\n"
     ]
    }
   ],
   "source": [
    "\"\"\"PCR draw 3 stars character with safety mechanism\"\"\"\n",
    "\n",
    "import matplotlib.pyplot as plt\n",
    "import math\n",
    "\n",
    "th = 300\n",
    "\n",
    "k = list(range(2, th+1))\n",
    "y = [(1-0.993**(x)) for x in k]\n",
    "plt.xlabel(\"Draw\")\n",
    "plt.ylabel(\"prob of hitting before current draw\")\n",
    "plt.plot(k, y, 'b')\n",
    "plt.show()\n",
    "print(\"Prob of getting nothing after {} draws:\".format(th), 1-(1-0.993**(th-1)))\n",
    "y = [x*0.007*0.993**(x-1) for x in k]\n",
    "exp = sum(y)+th*0.993**th\n",
    "print(\"Expectation:\",exp)\n",
    "sigma = [(x-exp)**2*0.007*0.993**(x-1) for x in k]\n",
    "sigma.append((th-exp)**2*0.993**th)\n",
    "sigma = math.sqrt(sum(sigma))\n",
    "print(\"Std:\",sigma)"
   ]
  },
  {
   "cell_type": "markdown",
   "metadata": {},
   "source": [
    "But how about calculating expectation when there is no safety?\n",
    "\n",
    "### devide and conquer\n",
    "\n",
    "from total probabilty theorem, we have:\n",
    "\n",
    "$$P(B) = \\Sigma_iP(B\\vert A_i)P(A_i)$$\n",
    "\n",
    "We can apply PMF to it, then we get:\n",
    "\n",
    "$$p_X(x) = \\Sigma_iP(A_i)p_{X\\vert A_i}(x)$$\n",
    "$$E[X] = \\Sigma_xxp_X(x) = \\Sigma_xx\\Sigma_iP(A_i)p_{X\\vert A_i}(x) = \\Sigma_iP(A_i)\\Sigma_xxp_{X\\vert A_i}(x)=\\Sigma_iP(A_i)E[x\\vert A_i]$$\n",
    "\n",
    "Go back to PCR problem, expectation of number of draw to get an charater is:\n",
    "$$E[X]=P(X=1)E[X\\vert X=1] + P(X>1)E[X\\vert X>1]$$\n",
    "Because:\n",
    "$$E[X\\vert X>1] = E[X-1\\vert X-1>0]+E[1\\vert x-1>0] = E[X] + 1$$\n",
    "so:\n",
    "$$E[X]=p * 1 + (1 - p) * (E[X] + 1)$$\n",
    "$$E[X] = \\frac{1}{p}$$\n",
    "\n",
    "To understand the \"because\", just think it as someone draw and get nothing, so he wastes 1 chance, and because of memoryless, the expectation under \"wasted\" condition will be the same as first draw."
   ]
  },
  {
   "cell_type": "markdown",
   "metadata": {},
   "source": [
    "## Joint PMF\n",
    "\n",
    "$$\\Sigma_x\\Sigma_yp_{X,Y}(x, y)=1$$\n",
    "\n",
    "$$p_X(x)=\\Sigma_yp_{X,Y}(x, y)$$\n",
    "\n",
    "$$p_{X\\vert Y}(x\\vert y)=P(X=x\\vert Y=y)=\\frac{p_{X,Y}(x, y)}{p_Y(y)}$$\n",
    "\n",
    "$$\\Sigma_xp_{X\\vert Y}(x\\vert y) =1$$"
   ]
  },
  {
   "cell_type": "markdown",
   "metadata": {},
   "source": [
    "## Multiple Discrete Random Varibles\n",
    "\n",
    "Expectation Properties:\n",
    "$$E[g(x, y)] = \\Sigma_x\\Sigma_yg(x,y)p_{X,Y}(x, y)$$\n",
    "normally, $$E[g(x, y)] \\ne g(E[X], E[Y])$$\n",
    "unless:\n",
    "$$E[\\alpha X+\\beta] = \\alpha E[X]+\\beta$$\n",
    "$$E[X+Y+Z] = E[X]+E[Y]+E[Z]$$\n",
    "\n",
    "If X, Y are independent:\n",
    "$$E[XY]=E[X]E[Y]$$\n",
    "\n",
    "$$E[g(X)h(Y)]=E[g(X)]E[h(Y)]$$\n",
    "\n",
    "Variance Properties:\n",
    "$$Var(\\alpha X) = \\alpha^2Var(X)$$\n",
    "\n",
    "$$Var(X+\\alpha) = Var(X)$$\n",
    "\n",
    "Let Z = X+Y\n",
    "if X, Y are independent:\n",
    "$$Var(X+Y)=Var(X)+Var(Y)$$\n",
    "\n",
    "Some cases:\n",
    "\n",
    "If X=Y, $Var(X+Y)=Var(2X)=4Var(X)$\n",
    "\n",
    "If X=-Y, $Var(X+Y)=Var(0) = 0$\n",
    "\n",
    "If X, Y are independent, Z = X-3Y, then $Var(Z) = Var(X)+9Var(Y)$\n",
    "\n",
    "## Interesting problem and methodology\n",
    "\n",
    "### 1.Binomial mean and variance\n",
    "X is number of head in n times coin flip. What is the expectation of X and the variance.\n",
    "\n",
    "$$E[X]=\\Sigma_{k=0}^{n}k\\ C_n^kp^k(1-p)^{n-k}$$\n",
    "\n",
    "This formula is very hard to calculate, let use a smart methodology.\n",
    "\n",
    "Make $X_i$ as an event representing ith toss, we have to result: head=1 and tail=0\n",
    "\n",
    "Then, our X will be $\\Sigma_i^nX_i$\n",
    "\n",
    "Because X is a memoryless event and the probability of head is p, then:\n",
    "\n",
    "$$E[X_i] = p * 1 + (1-p)*0 = p$$\n",
    "\n",
    "$$Var(X_i) = E[X_i^2]-E^2[X_i] = p-p^2$$\n",
    "So:\n",
    "\n",
    "$$E[X] = E[\\Sigma_i^nX_i] = \\Sigma_i^nE[X_i]=np$$\n",
    "$$Var(X) = Var(\\Sigma_i^nX_i) = \\Sigma_i^nVar(X_i)=np(1-p)$$\n",
    "\n",
    "This result tells us, if our coin is a fair coin, the variance of the result will reach the maximum value.\n",
    "\n",
    "### 2. Hat problem\n",
    "N people have different hats from each other, they throw their hats into a box and randomly pick one, X is the number of people who finally get their own hat, what is the expectation of X and how about the variance.\n",
    "\n",
    "We Can use the same methodology to solve this problem.\n",
    "\n",
    "We define $X_i$ as the ith people who picks hat, own hat=1, other's hat=0. the possibility of get own hat is $\\frac{1}{n}$.\n",
    "why? Because he can pick his own hat only if prior i-1 people didn't pick his hat and he pick it, which has probability:\n",
    "\n",
    "$$p = \\frac{n-1}{n}\\frac{n-2}{n-1}...\\frac{n-i-1}{n-i}\\frac{1}{n-i-1}=\\frac{1}{n}$$\n",
    "\n",
    "So, we have:\n",
    "\n",
    "$$E[X_i] = \\frac{1}{n}*1+\\frac{n-1}{n}*0=\\frac{1}{n}$$\n",
    "$$Var(X_i) = E[X_i^2]-E^2[X_i]=\\frac{1}{n}-\\frac{1}{n^2}$$\n",
    "\n",
    "So, for $X$, we have:\n",
    "\n",
    "$$E[X] = 1$$\n",
    "\n",
    "But since $X_i$ is not independent with each other, we cannot simple add their variance.\n",
    "\n",
    "$$Var(X) = E[X^2]-E^2[X] = E[X^2]-1$$\n",
    "\n",
    "$$E[X^2] = E[(\\Sigma_i^n X_i)^2] = \\Sigma_i^nE[X_i^2]+\\Sigma_{i\\ne j}E[X_iX_j]$$\n",
    "\n",
    "$X_iX_j$ means i and j both get their hats, the probability of it is:\n",
    "\n",
    "$$p=\\frac{1}{n}\\frac{1}{n-1}$$\n",
    "\n",
    "So:\n",
    "\n",
    "$$E[X^2] = n\\frac{1}{n}+(n^2-n)(\\frac{1}{n^2-n}) = 2$$\n",
    "\n",
    "So:\n",
    "\n",
    "$$Var(X) = 2 - 1 = 1$$"
   ]
  },
  {
   "cell_type": "code",
   "execution_count": null,
   "metadata": {},
   "outputs": [],
   "source": []
  }
 ],
 "metadata": {
  "kernelspec": {
   "display_name": "Python 3",
   "language": "python",
   "name": "python3"
  },
  "language_info": {
   "codemirror_mode": {
    "name": "ipython",
    "version": 3
   },
   "file_extension": ".py",
   "mimetype": "text/x-python",
   "name": "python",
   "nbconvert_exporter": "python",
   "pygments_lexer": "ipython3",
   "version": "3.7.7"
  }
 },
 "nbformat": 4,
 "nbformat_minor": 4
}
