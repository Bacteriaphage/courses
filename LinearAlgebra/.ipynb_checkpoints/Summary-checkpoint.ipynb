{
 "cells": [
  {
   "cell_type": "markdown",
   "metadata": {},
   "source": [
    "## Elimination with matrices\n",
    "\n",
    "### Elimination matrix(LU factorization)\n",
    "\n",
    "Suppose we have a invertiable matrix A and we want to use Elimination matrix to solve this linear system:\n",
    "\n",
    "$$A = \\begin{bmatrix} 1 & 2 & 1 \\\\ 3 & 8 & 1 \\\\ 0 & 4 & 1 \\end{bmatrix}$$\n",
    "\n",
    "$$E_{21} = \\begin{bmatrix} 1 & 0 & 1 \\\\ -3 & 1 & 0 \\\\ 0 & 0 & 1 \\end{bmatrix}$$\n",
    "\n",
    "$$E_{21}A = \\begin{bmatrix} 1 & 2 & 1 \\\\ 0 & 2 & -2 \\\\ 0 & 4 & 1 \\end{bmatrix}$$\n",
    "\n",
    "$$E_{32} = \\begin{bmatrix} 1 & 0 & 0 \\\\ 0 & 1 & 0 \\\\ 0 & -2 & 1 \\end{bmatrix}$$\n",
    "\n",
    "$$E_{32}E_{21}A = \\begin{bmatrix} 1 & 2 & 1 \\\\ 0 & 2 & -2 \\\\ 0 & 0 & 5 \\end{bmatrix}$$\n",
    "\n",
    "In general, we need have three elimination matrix for this:\n",
    "\n",
    "$$E_{32}E_{31}E_{21}A = U$$\n",
    "\n",
    "$$A = LU$$\n",
    "\n",
    "$$L = E_{21}^{-1}E_{31}^{-1}E_{32}^{-1}$$\n",
    "\n",
    "### Permutation matrix\n",
    "\n",
    "Permutate row, change I matrix to P and do PA\n",
    "\n",
    "Permutate column, change I matrix to P and do AP"
   ]
  },
  {
   "cell_type": "markdown",
   "metadata": {},
   "source": [
    "## Multiplication and inverse matrices\n",
    "\n",
    "### block multiplication\n",
    "$$A = \\begin{bmatrix} A_1 & A_2 \\\\ A_3 & A_4 \\end{bmatrix}$$\n",
    "\n",
    "$$B = \\begin{bmatrix} B_1 & B_2 \\\\ B_3 & B_4 \\end{bmatrix}$$\n",
    "\n",
    "$$C = AB$$\n",
    "\n",
    "$$C_1 = A_1B_1+A_2B_3$$\n",
    "\n",
    "### proof of no inverse(singular)\n",
    "\n",
    "If A is singular and x is a non-zero vector which we have following:\n",
    "$$Ax = 0$$\n",
    "\n",
    "Assume A has inverse, then:\n",
    "$$A^{-1}Ax = 0$$\n",
    "\n",
    "$$Ix = 0$$\n",
    "x vector have to be zero, but it's not, so singular matrix A cannot have inverse matrix.\n",
    "\n",
    "### Gauss-Jordan inverse calculation\n",
    "\n",
    "If A have inverse matrix, then:\n",
    "\n",
    "$$\\begin{bmatrix} A & I \\end{bmatrix} -> \\begin{bmatrix} I & A^{-1} \\end{bmatrix}$$\n",
    "\n",
    "the reason is we multiply $A^{-1}$ inverse to both A and I."
   ]
  },
  {
   "cell_type": "markdown",
   "metadata": {},
   "source": [
    "## LU factorization\n",
    "\n",
    "### inverse order\n",
    "$$(AB)^{-1} = B^{-1}A^{-1}$$\n",
    "\n",
    "### factorization\n",
    "\n",
    "$$A = LDU$$\n",
    "\n",
    "$$EA = E_{32}E_{31}E_{21}A = U$$ (no row exchange)\n",
    "\n",
    "E is hard to compute because it's order makes a multiplier in front will effect later which means 32 multiplier will also multiply 21 multiplier.\n",
    "\n",
    "But L is easy to compute because it just fill inverse multipliers into lower triangle.\n",
    "Example:\n",
    "\n",
    "$$\\begin{bmatrix} 1 & 0 & 1 \\\\ 0 & 1 & 0 \\\\ 0 & -2 & 1 \\end{bmatrix}\\begin{bmatrix} 1 & 0 & 1 \\\\ -3 & 1 & 0 \\\\ 0 & 0 & 1 \\end{bmatrix} = \\begin{bmatrix} 1 & 0 & 1 \\\\ -3 & 1 & 0 \\\\ 6 & -2 & 1 \\end{bmatrix}$$\n",
    "\n",
    "here 6 need to compute. but if we inverse these two matrix:\n",
    "\n",
    "$$\\begin{bmatrix} 1 & 0 & 1 \\\\ 3 & 1 & 0 \\\\ 0 & 0 & 1 \\end{bmatrix}\\begin{bmatrix} 1 & 0 & 1 \\\\ 0 & 1 & 0 \\\\ 0 & 2 & 1 \\end{bmatrix} = \\begin{bmatrix} 1 & 0 & 1 \\\\ 3 & 1 & 0 \\\\ 0 & 2 & 1 \\end{bmatrix}$$\n",
    "\n",
    "### permutation\n",
    "\n",
    "$$p^{-1} = P^{T}$$"
   ]
  },
  {
   "cell_type": "markdown",
   "metadata": {},
   "source": [
    "## Transpose, space R^n\n",
    "\n",
    "### Characteristic for inversable matrix\n",
    "\n",
    "$$(AA^{-1})^{T} = I = (A^{-1})^TA^T = (A^T)^{-1}A^T$$\n",
    "\n",
    "$$(A^T)^{-1} = (A^{-1})^T$$\n",
    "\n",
    "### vector space and subspace\n",
    "\n",
    "subspace of a vector space must have following properties:\n",
    "\n",
    "vectors are in the same space if scale opertation and addition operation can get a new vector which also exists in this space.\n",
    "R^3 has subspace R^2 which is a plane going through orignal point. R^2 has subspace R^1 which is a line going through original point."
   ]
  },
  {
   "cell_type": "code",
   "execution_count": null,
   "metadata": {},
   "outputs": [],
   "source": []
  }
 ],
 "metadata": {
  "kernelspec": {
   "display_name": "Python 3",
   "language": "python",
   "name": "python3"
  },
  "language_info": {
   "codemirror_mode": {
    "name": "ipython",
    "version": 3
   },
   "file_extension": ".py",
   "mimetype": "text/x-python",
   "name": "python",
   "nbconvert_exporter": "python",
   "pygments_lexer": "ipython3",
   "version": "3.7.7"
  }
 },
 "nbformat": 4,
 "nbformat_minor": 4
}
